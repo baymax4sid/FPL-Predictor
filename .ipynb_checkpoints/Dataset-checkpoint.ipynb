{
 "cells": [
  {
   "cell_type": "code",
   "execution_count": 3,
   "metadata": {},
   "outputs": [],
   "source": [
    "import urllib.request, json\n",
    "import pandas as pd\n",
    "import numpy as np"
   ]
  },
  {
   "cell_type": "code",
   "execution_count": 4,
   "metadata": {},
   "outputs": [],
   "source": [
    "with urllib.request.urlopen(\"https://fantasy.premierleague.com/api/bootstrap-static/\") as url:\n",
    "    data = json.loads(url.read().decode())"
   ]
  },
  {
   "cell_type": "code",
   "execution_count": 16,
   "metadata": {},
   "outputs": [],
   "source": [
    "gw = pd.DataFrame(data['events'])\n",
    "players = pd.DataFrame(data['elements'])\n",
    "teams = pd.DataFrame(data['teams'])\n",
    "player_type = pd.DataFrame(data['element_types'])\n",
    "\n",
    "### Below data is removed on domain expertise and String Data like news,name, etc which will not contribute to our model\n",
    "\n",
    "# Removinig the columns which would be useless for the prediction by understanding of domain\n",
    "players.drop(['cost_change_event','cost_change_event_fall','team_code','transfers_in',\n",
    "              'transfers_out','cost_change_start', 'cost_change_start_fall'],axis=1,inplace=True)\n",
    "\n",
    "players.drop(['photo','news','news_added','second_name','team'],axis=1,inplace=True)\n",
    "\n",
    "#Removing Correlated columns by understanding of domain\n",
    "players.drop(['influence_rank',\n",
    "       'influence_rank_type', 'creativity_rank', 'creativity_rank_type',\n",
    "       'threat_rank', 'threat_rank_type', 'ict_index_rank',\n",
    "       'ict_index_rank_type'],axis=1,inplace=True)\n",
    "\n",
    "# Removing useful column which cannot be used for now. Will include it further ahead\n",
    "players.drop(['in_dreamteam'], axis = 1, inplace=True)\n",
    "\n",
    "# Same value over the whole column\n",
    "\n",
    "for x in players.columns:\n",
    "    if players[x].unique().shape[0] == 1:\n",
    "        players.drop(x, axis=1, inplace = True)\n",
    "        \n",
    "#set an index and drop all other unique useless columns that could have been used for index. \n",
    "players.drop(['first_name','code'], axis=1, inplace=True)\n",
    "\n",
    "\n",
    "## I have dropped all these columns in seperate cells and just copied the code over here. This is done because\n",
    "# the dataset will be updated every week and we would have to run just one cell next time.\n",
    "\n",
    "## Also, this project will be improved upon in the future so just keeping note of all redundant columns in cell."
   ]
  },
  {
   "cell_type": "code",
   "execution_count": 112,
   "metadata": {
    "scrolled": false
   },
   "outputs": [
    {
     "data": {
      "text/plain": [
       "Index(['chance_of_playing_next_round', 'chance_of_playing_this_round',\n",
       "       'dreamteam_count', 'element_type', 'id', 'now_cost',\n",
       "       'selected_by_percent', 'status', 'total_points', 'value_season',\n",
       "       'web_name', 'minutes', 'goals_scored', 'assists', 'clean_sheets',\n",
       "       'goals_conceded', 'own_goals', 'penalties_saved', 'penalties_missed',\n",
       "       'yellow_cards', 'red_cards', 'saves', 'bonus', 'bps', 'influence',\n",
       "       'creativity', 'threat', 'ict_index'],\n",
       "      dtype='object')"
      ]
     },
     "execution_count": 112,
     "metadata": {},
     "output_type": "execute_result"
    }
   ],
   "source": [
    "players.columns\n",
    "\n",
    "# Above, we have removed columns based on our domain expertise. \n",
    "# From here on we will use machine learning techniques to filter data and decrease dimensionality."
   ]
  },
  {
   "cell_type": "code",
   "execution_count": 109,
   "metadata": {},
   "outputs": [],
   "source": [
    "players.to_csv('Players.csv')\n",
    "\n",
    "## Exporting the Cleaned dataset obtained for our model.\n",
    "## There we will be using ML techniques to refine our data and eventually set up "
   ]
  },
  {
   "cell_type": "code",
   "execution_count": 18,
   "metadata": {
    "scrolled": false
   },
   "outputs": [],
   "source": [
    "# Including Points per game in the dataset to try for a new target variable(Points Per Game).\n",
    "players.columns\n",
    "players.to_csv('Players_ppg.csv')"
   ]
  },
  {
   "cell_type": "code",
   "execution_count": null,
   "metadata": {},
   "outputs": [],
   "source": []
  }
 ],
 "metadata": {
  "kernelspec": {
   "display_name": "Python 3",
   "language": "python",
   "name": "python3"
  },
  "language_info": {
   "codemirror_mode": {
    "name": "ipython",
    "version": 3
   },
   "file_extension": ".py",
   "mimetype": "text/x-python",
   "name": "python",
   "nbconvert_exporter": "python",
   "pygments_lexer": "ipython3",
   "version": "3.7.6"
  }
 },
 "nbformat": 4,
 "nbformat_minor": 4
}
